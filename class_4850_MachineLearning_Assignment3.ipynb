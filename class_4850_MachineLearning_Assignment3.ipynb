{
  "nbformat": 4,
  "nbformat_minor": 0,
  "metadata": {
    "colab": {
      "provenance": [],
      "include_colab_link": true
    },
    "kernelspec": {
      "name": "python3",
      "display_name": "Python 3"
    },
    "language_info": {
      "name": "python"
    }
  },
  "cells": [
    {
      "cell_type": "markdown",
      "metadata": {
        "id": "view-in-github",
        "colab_type": "text"
      },
      "source": [
        "<a href=\"https://colab.research.google.com/github/cierrakoen/class_4850-MachineLearning-Assignment3/blob/main/class_4850_MachineLearning_Assignment3.ipynb\" target=\"_parent\"><img src=\"https://colab.research.google.com/assets/colab-badge.svg\" alt=\"Open In Colab\"/></a>"
      ]
    },
    {
      "cell_type": "markdown",
      "source": [
        "# CSC 4850 / 6850 / DSCI 4850 - Assigment 3 - (400/450 points)\n",
        "\n",
        "**Total points (400 undergraduate / 450 graduate)**\n",
        "\n",
        "**Student Name: Cierra Koen**\n",
        "\n",
        "**Undergraduate )**\n",
        "\n",
        "## Instructions:\n",
        "\n",
        "You are to make a copy of this notebook on your own Google Drive (if you don't have one, get one, it is free), and use the exact format provided. Any code needs to go in the code cells, and any 'text' answer/description needs to go in the proper text cell. We will not be looking for answers randomly placed so please read the instructions.\n",
        "\n",
        "You are to use only the libraries provided in the next code cell. Any additional library is NOT allowed and will cause you to lose all the points that use said library's functions/functionality. You can use any functions given in the class code examples, but be very very careful of lifting anything \n",
        "'as-is' from the internet as it will be considerered plagiarism. \n",
        "\n",
        "**IMPORTANT: Make sure you use 1234 (for the folds use: 3456, 5678, 7890) for your randomseed/random states. Failure to do so will make your answers not comparable to the answer key and you will get a zero on the whole assignment.**\n",
        "\n",
        "## Submission format:\n",
        "\n",
        "The submission for Assignment two will have two components:\n",
        "\n",
        "1) You are to create a PDF from the PRINT out of this notebook with all cells executed sequentially. It is the student's responsibility to be able to do this and no excuses will be accepted, no legible PDF = zero grade. So practice and test before submission time. This PDF should be named LastName_FirstName-Assignment3.PDF\n",
        "\n",
        "2) The student should create a GitHub repository for this assignment and properly title the repository Class_CODE-ClassName-AssignmentTwo. This repository should have a readme file and the Google Colab notebook in it. Note that colab can save a copy directly to GitHub so make sure you test this. Downloading the notebook file and uploading it directly will result in 200 points deduction. The link to your GitHub repository should be included as text/message in the iCollege submission drop, failure to include this link will result in a 100 point penalty. \n",
        "\n",
        "## Extra Credit for all:\n",
        "\n",
        "Any student can get 20 extra credit points by doing one simple thing:\n",
        "\n",
        "1) Make sure your repo for this assignment has a nice README file with figures and results. \n"
      ],
      "metadata": {
        "id": "Uc3L9tKWVV4g"
      }
    },
    {
      "cell_type": "code",
      "execution_count": 43,
      "metadata": {
        "id": "PjGD5VGFVS-s"
      },
      "outputs": [],
      "source": [
        "############## These are the only imports allowed to solve this homework, so make sure you do not add anything else down below\n",
        "\n",
        "%matplotlib inline\n",
        "\n",
        "import numpy as np\n",
        "import pandas as pd\n",
        "import sklearn \n",
        "import numpy as np\n",
        "import matplotlib.pyplot as plt\n",
        "import seaborn as sns; sns.set()\n"
      ]
    },
    {
      "cell_type": "markdown",
      "source": [
        "Using the Chess dataset from Kaggle: https://www.kaggle.com/datasets/datasnaek/chess"
      ],
      "metadata": {
        "id": "89_ilQegV-MS"
      }
    },
    {
      "cell_type": "code",
      "source": [
        "from google.colab import files\n",
        "uploaded = files.upload()"
      ],
      "metadata": {
        "colab": {
          "base_uri": "https://localhost:8080/",
          "height": 73
        },
        "id": "szHj1aje-RAK",
        "outputId": "ad8568c4-565f-4a5e-ea55-0693d7474068"
      },
      "execution_count": 44,
      "outputs": [
        {
          "output_type": "display_data",
          "data": {
            "text/plain": [
              "<IPython.core.display.HTML object>"
            ],
            "text/html": [
              "\n",
              "     <input type=\"file\" id=\"files-7cec0e9d-3499-49f8-b537-b038a6976b84\" name=\"files[]\" multiple disabled\n",
              "        style=\"border:none\" />\n",
              "     <output id=\"result-7cec0e9d-3499-49f8-b537-b038a6976b84\">\n",
              "      Upload widget is only available when the cell has been executed in the\n",
              "      current browser session. Please rerun this cell to enable.\n",
              "      </output>\n",
              "      <script>// Copyright 2017 Google LLC\n",
              "//\n",
              "// Licensed under the Apache License, Version 2.0 (the \"License\");\n",
              "// you may not use this file except in compliance with the License.\n",
              "// You may obtain a copy of the License at\n",
              "//\n",
              "//      http://www.apache.org/licenses/LICENSE-2.0\n",
              "//\n",
              "// Unless required by applicable law or agreed to in writing, software\n",
              "// distributed under the License is distributed on an \"AS IS\" BASIS,\n",
              "// WITHOUT WARRANTIES OR CONDITIONS OF ANY KIND, either express or implied.\n",
              "// See the License for the specific language governing permissions and\n",
              "// limitations under the License.\n",
              "\n",
              "/**\n",
              " * @fileoverview Helpers for google.colab Python module.\n",
              " */\n",
              "(function(scope) {\n",
              "function span(text, styleAttributes = {}) {\n",
              "  const element = document.createElement('span');\n",
              "  element.textContent = text;\n",
              "  for (const key of Object.keys(styleAttributes)) {\n",
              "    element.style[key] = styleAttributes[key];\n",
              "  }\n",
              "  return element;\n",
              "}\n",
              "\n",
              "// Max number of bytes which will be uploaded at a time.\n",
              "const MAX_PAYLOAD_SIZE = 100 * 1024;\n",
              "\n",
              "function _uploadFiles(inputId, outputId) {\n",
              "  const steps = uploadFilesStep(inputId, outputId);\n",
              "  const outputElement = document.getElementById(outputId);\n",
              "  // Cache steps on the outputElement to make it available for the next call\n",
              "  // to uploadFilesContinue from Python.\n",
              "  outputElement.steps = steps;\n",
              "\n",
              "  return _uploadFilesContinue(outputId);\n",
              "}\n",
              "\n",
              "// This is roughly an async generator (not supported in the browser yet),\n",
              "// where there are multiple asynchronous steps and the Python side is going\n",
              "// to poll for completion of each step.\n",
              "// This uses a Promise to block the python side on completion of each step,\n",
              "// then passes the result of the previous step as the input to the next step.\n",
              "function _uploadFilesContinue(outputId) {\n",
              "  const outputElement = document.getElementById(outputId);\n",
              "  const steps = outputElement.steps;\n",
              "\n",
              "  const next = steps.next(outputElement.lastPromiseValue);\n",
              "  return Promise.resolve(next.value.promise).then((value) => {\n",
              "    // Cache the last promise value to make it available to the next\n",
              "    // step of the generator.\n",
              "    outputElement.lastPromiseValue = value;\n",
              "    return next.value.response;\n",
              "  });\n",
              "}\n",
              "\n",
              "/**\n",
              " * Generator function which is called between each async step of the upload\n",
              " * process.\n",
              " * @param {string} inputId Element ID of the input file picker element.\n",
              " * @param {string} outputId Element ID of the output display.\n",
              " * @return {!Iterable<!Object>} Iterable of next steps.\n",
              " */\n",
              "function* uploadFilesStep(inputId, outputId) {\n",
              "  const inputElement = document.getElementById(inputId);\n",
              "  inputElement.disabled = false;\n",
              "\n",
              "  const outputElement = document.getElementById(outputId);\n",
              "  outputElement.innerHTML = '';\n",
              "\n",
              "  const pickedPromise = new Promise((resolve) => {\n",
              "    inputElement.addEventListener('change', (e) => {\n",
              "      resolve(e.target.files);\n",
              "    });\n",
              "  });\n",
              "\n",
              "  const cancel = document.createElement('button');\n",
              "  inputElement.parentElement.appendChild(cancel);\n",
              "  cancel.textContent = 'Cancel upload';\n",
              "  const cancelPromise = new Promise((resolve) => {\n",
              "    cancel.onclick = () => {\n",
              "      resolve(null);\n",
              "    };\n",
              "  });\n",
              "\n",
              "  // Wait for the user to pick the files.\n",
              "  const files = yield {\n",
              "    promise: Promise.race([pickedPromise, cancelPromise]),\n",
              "    response: {\n",
              "      action: 'starting',\n",
              "    }\n",
              "  };\n",
              "\n",
              "  cancel.remove();\n",
              "\n",
              "  // Disable the input element since further picks are not allowed.\n",
              "  inputElement.disabled = true;\n",
              "\n",
              "  if (!files) {\n",
              "    return {\n",
              "      response: {\n",
              "        action: 'complete',\n",
              "      }\n",
              "    };\n",
              "  }\n",
              "\n",
              "  for (const file of files) {\n",
              "    const li = document.createElement('li');\n",
              "    li.append(span(file.name, {fontWeight: 'bold'}));\n",
              "    li.append(span(\n",
              "        `(${file.type || 'n/a'}) - ${file.size} bytes, ` +\n",
              "        `last modified: ${\n",
              "            file.lastModifiedDate ? file.lastModifiedDate.toLocaleDateString() :\n",
              "                                    'n/a'} - `));\n",
              "    const percent = span('0% done');\n",
              "    li.appendChild(percent);\n",
              "\n",
              "    outputElement.appendChild(li);\n",
              "\n",
              "    const fileDataPromise = new Promise((resolve) => {\n",
              "      const reader = new FileReader();\n",
              "      reader.onload = (e) => {\n",
              "        resolve(e.target.result);\n",
              "      };\n",
              "      reader.readAsArrayBuffer(file);\n",
              "    });\n",
              "    // Wait for the data to be ready.\n",
              "    let fileData = yield {\n",
              "      promise: fileDataPromise,\n",
              "      response: {\n",
              "        action: 'continue',\n",
              "      }\n",
              "    };\n",
              "\n",
              "    // Use a chunked sending to avoid message size limits. See b/62115660.\n",
              "    let position = 0;\n",
              "    do {\n",
              "      const length = Math.min(fileData.byteLength - position, MAX_PAYLOAD_SIZE);\n",
              "      const chunk = new Uint8Array(fileData, position, length);\n",
              "      position += length;\n",
              "\n",
              "      const base64 = btoa(String.fromCharCode.apply(null, chunk));\n",
              "      yield {\n",
              "        response: {\n",
              "          action: 'append',\n",
              "          file: file.name,\n",
              "          data: base64,\n",
              "        },\n",
              "      };\n",
              "\n",
              "      let percentDone = fileData.byteLength === 0 ?\n",
              "          100 :\n",
              "          Math.round((position / fileData.byteLength) * 100);\n",
              "      percent.textContent = `${percentDone}% done`;\n",
              "\n",
              "    } while (position < fileData.byteLength);\n",
              "  }\n",
              "\n",
              "  // All done.\n",
              "  yield {\n",
              "    response: {\n",
              "      action: 'complete',\n",
              "    }\n",
              "  };\n",
              "}\n",
              "\n",
              "scope.google = scope.google || {};\n",
              "scope.google.colab = scope.google.colab || {};\n",
              "scope.google.colab._files = {\n",
              "  _uploadFiles,\n",
              "  _uploadFilesContinue,\n",
              "};\n",
              "})(self);\n",
              "</script> "
            ]
          },
          "metadata": {}
        },
        {
          "output_type": "stream",
          "name": "stdout",
          "text": [
            "Saving games.csv to games (3).csv\n"
          ]
        }
      ]
    },
    {
      "cell_type": "code",
      "source": [],
      "metadata": {
        "id": "gI-gIQqgDZWf"
      },
      "execution_count": 44,
      "outputs": []
    },
    {
      "cell_type": "code",
      "source": [
        "### Manually download it and upload to this istance data sample space\n",
        "### Note DO NOT change these operations or all your answers will be incorrect\n",
        "\n",
        "### Let's do some transformations and extra features on this.\n",
        "df=pd.read_csv('games.csv', encoding='utf-8')\n",
        "\n",
        "# Difference between white rating and black rating - independent variable\n",
        "df['rating_difference']=df['white_rating']-df['black_rating']\n",
        "\n",
        "# White wins flag (1=win vs. 0=not-win) - dependent (target) variable\n",
        "df['white_win']=df['winner'].apply(lambda x: 1 if x=='white' else 0)\n"
      ],
      "metadata": {
        "id": "J_sakm7HV90A"
      },
      "execution_count": 45,
      "outputs": []
    },
    {
      "cell_type": "markdown",
      "source": [
        "For this assignment we will be using two columns as features only, and the white_win colum as the label."
      ],
      "metadata": {
        "id": "zTyRQCajE5Go"
      }
    },
    {
      "cell_type": "code",
      "source": [
        "X=df[['rating_difference', 'turns']]\n",
        "y=df['white_win'].values"
      ],
      "metadata": {
        "id": "mv3OV1HJE4VZ"
      },
      "execution_count": 46,
      "outputs": []
    },
    {
      "cell_type": "markdown",
      "source": [
        "# Question 1 (10 points)\n",
        "\n",
        "Use sklearn to split this the data into testing and training data. "
      ],
      "metadata": {
        "id": "0TLvYCXVbHN9"
      }
    },
    {
      "cell_type": "code",
      "source": [
        "##### Code block for Question 1\n",
        "from sklearn.model_selection import train_test_split\n",
        "X_train, X_test, y_train, y_test = train_test_split(X, y, test_size=0.2, random_state=1234)\n"
      ],
      "metadata": {
        "id": "ZIxSrPxmbGYZ"
      },
      "execution_count": 47,
      "outputs": []
    },
    {
      "cell_type": "markdown",
      "source": [
        "# Question 2 (30 points)\n",
        "\n",
        "Manually (DO NOT use kFold or any built-in functionality) create **THREE** different folds for the training data. "
      ],
      "metadata": {
        "id": "Hl5dZFu7lDg5"
      }
    },
    {
      "cell_type": "code",
      "source": [
        "##### Code block for Question 2\n",
        "n_folds = 3\n",
        "fold_size = len(X_train) // n_folds\n",
        "\n",
        "fold1_X = X_train[:fold_size]\n",
        "fold1_y = y_train[:fold_size]\n",
        "\n",
        "fold2_X = X_train[fold_size:2*fold_size]\n",
        "fold2_y = y_train[fold_size:2*fold_size]\n",
        "\n",
        "fold3_X = X_train[2*fold_size:]\n",
        "fold3_y = y_train[2*fold_size:]"
      ],
      "metadata": {
        "id": "QDAUtNuAlUyI"
      },
      "execution_count": 48,
      "outputs": []
    },
    {
      "cell_type": "markdown",
      "source": [
        "# Question 3 (30 points)\n",
        "\n",
        "Create code to build three different SVM models with the following kernels:\n",
        "\n",
        "1.   linear\n",
        "2.   poly\n",
        "3.   rbf"
      ],
      "metadata": {
        "id": "V6grDh8FlVtS"
      }
    },
    {
      "cell_type": "code",
      "source": [
        "##### Code block for Question 3\n",
        "from sklearn import svm\n",
        "\n",
        "# linear\n",
        "def linear_svm(X_train,y_train):\n",
        "  lin_svm = svm.SVC(kernel='linear')\n",
        "  return lin_svm.fit(X_train, y_train)\n",
        "\n",
        "#poly\n",
        "def poly_svm(X_train,y_train):\n",
        "  poly_svm = svm.SVC(kernel='poly', degree=3)\n",
        "  return poly_svm.fit(X_train, y_train)\n",
        "\n",
        "#rbf\n",
        "def rbf_svm(X_train,y_train):\n",
        "  rbf_svm = svm.SVC(kernel='rbf')\n",
        "  return rbf_svm.fit(X_train, y_train)"
      ],
      "metadata": {
        "id": "OAmTADedkDN0"
      },
      "execution_count": 49,
      "outputs": []
    },
    {
      "cell_type": "markdown",
      "source": [
        "# Question 4 (70 points)\n",
        "\n",
        "FOLD 1 - run the first three models with first fold data you created. Output the classification report AND plot its learning curve.\n",
        "\n",
        "\n",
        "In the text cell, following the code block, descibe what findings can be infered from the classification report and learning curve. Mention at least 3 non-trivial observations between the different kernels. "
      ],
      "metadata": {
        "id": "UDBERCfzkTIK"
      }
    },
    {
      "cell_type": "code",
      "source": [
        "##### Code block for Question 4\n",
        "from sklearn.metrics import classification_report\n",
        "from sklearn.model_selection import learning_curve\n",
        "import matplotlib.pyplot as plt\n",
        "\n",
        "#linear test\n",
        "linear = linear_svm(fold1_X,fold1_y)\n",
        "y_predict = linear.predict(X_test)\n",
        "\n",
        "#classification report\n",
        "print(\"Linear Classification Report\")\n",
        "print(classification_report(y_test, y_predict))\n",
        "\n",
        "#learning curve data points\n",
        "train_size_abs, train_scores, test_scores = learning_curve(linear, fold1_X, fold1_y,cv=3)\n",
        "\n",
        "#creating mean and varience for linear test\n",
        "train_mu, train_var = np.mean(train_scores, axis=1), np.std(train_scores, axis=1)\n",
        "test_mu, test_var = np.mean(test_scores, axis=1), np.std(test_scores, axis=1)\n",
        "\n",
        "#plotting\n",
        "plt.figure(figsize=(8, 6))\n",
        "plt.plot(train_size_abs, train_mu, 'o-', color='r', label='Training score')\n",
        "plt.plot(train_size_abs, test_mu, 'o-', color='g', label='Validation score')\n",
        "plt.xlabel('# of training examples')\n",
        "plt.ylabel('Score')\n",
        "plt.title('Linear Learning curve')\n",
        "plt.legend(loc='best')\n",
        "plt.show()\n",
        "\n",
        "### end of linear\n",
        "\n",
        "# poly_svm\n",
        "poly = poly_svm(fold1_X,fold1_y)\n",
        "y_predict = poly.predict(X_test)\n",
        "\n",
        "# classification report\n",
        "print(\"Polynomial Classification Report\")\n",
        "print(classification_report(y_test, y_predict))\n",
        "\n",
        "# learning curve data points\n",
        "train_size_abs, train_scores, test_scores = learning_curve(poly, fold1_X, fold1_y,cv=3)\n",
        "\n",
        "# creating mean and varience for linear test\n",
        "train_mu, train_var = np.mean(train_scores, axis=1), np.std(train_scores, axis=1)\n",
        "test_mu, test_var = np.mean(test_scores, axis=1), np.std(test_scores, axis=1)\n",
        "\n",
        "# creating plots\n",
        "plt.figure(figsize=(8, 6))\n",
        "plt.plot(train_size_abs, train_mu, 'o-', color='r', label='Training score')\n",
        "plt.plot(train_size_abs, test_mu, 'o-', color='g', label='Validation score')\n",
        "plt.xlabel('# of training examples')\n",
        "plt.ylabel('Score')\n",
        "plt.title('Polynomial Learning curve')\n",
        "plt.legend(loc='best')\n",
        "plt.show()\n",
        "\n",
        "### end of poly\n",
        "\n",
        "# RBF\n",
        "rbf = rbf_svm(fold1_X, fold1_y)\n",
        "y_predict = rbf.predict(X_test)\n",
        "\n",
        "# classification report\n",
        "print(\"Radio Basis Function Classification Report\")\n",
        "print(classification_report(y_test, y_predict))\n",
        "\n",
        "# learning curve data points\n",
        "train_size_abs, train_scores, test_scores = learning_curve(rbf, fold1_X, fold1_y,cv=3)\n",
        "\n",
        "# creating mean and varience for rbf test\n",
        "train_mu, train_var = np.mean(train_scores, axis=1), np.std(train_scores, axis=1)\n",
        "test_mu, test_var = np.mean(test_scores, axis=1), np.std(test_scores, axis=1)\n",
        "\n",
        "# creating plots\n",
        "plt.figure(figsize=(8, 6))\n",
        "plt.plot(train_size_abs, train_mu, 'o-', color='r', label='Training score')\n",
        "plt.plot(train_size_abs, test_mu, 'o-', color='g', label='Validation score')\n",
        "plt.xlabel('# of training examples')\n",
        "plt.ylabel('Score')\n",
        "plt.title(' Radio Basis Function Learning curve')\n",
        "plt.legend(loc='best')\n",
        "plt.show()\n"
      ],
      "metadata": {
        "id": "OlQED2C0kSQ-",
        "colab": {
          "base_uri": "https://localhost:8080/",
          "height": 1511
        },
        "outputId": "ac126839-0829-4a3a-9531-37498f193204"
      },
      "execution_count": 50,
      "outputs": [
        {
          "output_type": "stream",
          "name": "stdout",
          "text": [
            "Linear Classification Report\n",
            "              precision    recall  f1-score   support\n",
            "\n",
            "           0       0.67      0.63      0.65      2059\n",
            "           1       0.63      0.67      0.65      1953\n",
            "\n",
            "    accuracy                           0.65      4012\n",
            "   macro avg       0.65      0.65      0.65      4012\n",
            "weighted avg       0.65      0.65      0.65      4012\n",
            "\n"
          ]
        },
        {
          "output_type": "display_data",
          "data": {
            "text/plain": [
              "<Figure size 576x432 with 1 Axes>"
            ],
            "image/png": "[encoded data removed]"
          },
          "metadata": {}
        },
        {
          "output_type": "stream",
          "name": "stdout",
          "text": [
            "Polynomial Classification Report\n",
            "              precision    recall  f1-score   support\n",
            "\n",
            "           0       0.80      0.22      0.34      2059\n",
            "           1       0.53      0.94      0.68      1953\n",
            "\n",
            "    accuracy                           0.57      4012\n",
            "   macro avg       0.67      0.58      0.51      4012\n",
            "weighted avg       0.67      0.57      0.51      4012\n",
            "\n"
          ]
        },
        {
          "output_type": "display_data",
          "data": {
            "text/plain": [
              "<Figure size 576x432 with 1 Axes>"
            ],
            "image/png": "[encoded data removed]"
          },
          "metadata": {}
        },
        {
          "output_type": "stream",
          "name": "stdout",
          "text": [
            "Radio Basis Function Classification Report\n",
            "              precision    recall  f1-score   support\n",
            "\n",
            "           0       0.69      0.58      0.63      2059\n",
            "           1       0.62      0.72      0.67      1953\n",
            "\n",
            "    accuracy                           0.65      4012\n",
            "   macro avg       0.65      0.65      0.65      4012\n",
            "weighted avg       0.65      0.65      0.65      4012\n",
            "\n"
          ]
        },
        {
          "output_type": "display_data",
          "data": {
            "text/plain": [
              "<Figure size 576x432 with 1 Axes>"
            ],
            "image/png": "[encoded data removed]"
          },
          "metadata": {}
        }
      ]
    },
    {
      "cell_type": "markdown",
      "source": [
        "Textual answer to question 4 goes here."
      ],
      "metadata": {
        "id": "axlGZ10EkumL"
      }
    },
    {
      "cell_type": "markdown",
      "source": [
        "\n",
        "\n",
        "1. I noticed that in all kernels the training and validation scores usually end up near eachother once they both close in on the full number of training examples.\n",
        "2. From the charts RBF is the only model in which the training and validation scores cross eachother in the long run and also has a higher validation score on the first fold.\n",
        "3. The other models that arent RBF both have trend lines which run parallel to eachother. \n",
        "\n"
      ],
      "metadata": {
        "id": "MqW2DcLgsHKH"
      }
    },
    {
      "cell_type": "markdown",
      "source": [
        "# Question 5 (70 points)\n",
        "\n",
        "FOLD 2 - run the first three models with first fold data you created. Output the classification report AND plot its learning curve.\n",
        "\n",
        "\n",
        "In the text cell, following the code block, descibe what findings can be infered from the classification report and learning curve. Mention at least 3 non-trivial observations between the different kernels. "
      ],
      "metadata": {
        "id": "lGTwCVhZHBVn"
      }
    },
    {
      "cell_type": "code",
      "source": [
        "##### Code block for Question 5\n",
        "from sklearn.metrics import classification_report\n",
        "from sklearn.model_selection import learning_curve\n",
        "import matplotlib.pyplot as plt\n",
        "from sklearn.metrics import mean_squared_error\n",
        "\n",
        "#linear test\n",
        "linear = linear_svm(fold2_X,fold2_y)\n",
        "y_predict = linear.predict(X_test)\n",
        "\n",
        "#classification report\n",
        "print(\"Linear Classification Report\")\n",
        "print(classification_report(y_test, y_predict))\n",
        "\n",
        "#learning curve data points\n",
        "train_size_abs, train_scores, test_scores = learning_curve(linear, fold2_X, fold2_y,cv=3)\n",
        "\n",
        "#creating mean and varience for linear test\n",
        "train_mu, train_var = np.mean(train_scores, axis=1), np.std(train_scores, axis=1)\n",
        "test_mu, test_var = np.mean(test_scores, axis=1), np.std(test_scores, axis=1)\n",
        "\n",
        "#plotting\n",
        "plt.figure(figsize=(8, 6))\n",
        "plt.plot(train_size_abs, train_mu, 'o-', color='r', label='Training score')\n",
        "plt.plot(train_size_abs, test_mu, 'o-', color='g', label='Validation score')\n",
        "plt.xlabel('# of training examples')\n",
        "plt.ylabel('Score')\n",
        "plt.title('Linear Learning curve')\n",
        "plt.legend(loc='best')\n",
        "plt.show()\n",
        "\n",
        "### end of linear\n",
        "\n",
        "# poly_svm\n",
        "poly = poly_svm(fold2_X,fold2_y)\n",
        "y_predict = poly.predict(X_test)\n",
        "\n",
        "# classification report\n",
        "print(\"Polynomial Classification Report\")\n",
        "best_polynomial = classification_report(y_test, y_predict,output_dict=True)\n",
        "best_poly_mse = mean_squared_error(y_test, y_predict)\n",
        "print(classification_report(y_test, y_predict))\n",
        "\n",
        "# learning curve data points\n",
        "train_size_abs, train_scores, test_scores = learning_curve(poly, fold2_X, fold2_y,cv=3)\n",
        "\n",
        "# creating mean and varience for linear test\n",
        "train_mu, train_var = np.mean(train_scores, axis=1), np.std(train_scores, axis=1)\n",
        "test_mu, test_var = np.mean(test_scores, axis=1), np.std(test_scores, axis=1)\n",
        "\n",
        "# creating plots\n",
        "plt.figure(figsize=(8, 6))\n",
        "plt.plot(train_size_abs, train_mu, 'o-', color='r', label='Training score')\n",
        "plt.plot(train_size_abs, test_mu, 'o-', color='g', label='Validation score')\n",
        "plt.xlabel('# of training examples')\n",
        "plt.ylabel('Score')\n",
        "plt.title('Polynomial Learning curve')\n",
        "plt.legend(loc='best')\n",
        "plt.show()\n",
        "\n",
        "### end of poly\n",
        "\n",
        "# RBF\n",
        "rbf = rbf_svm(fold2_X, fold2_y)\n",
        "y_predict = rbf.predict(X_test)\n",
        "\n",
        "# classification report\n",
        "print(\"Radio Basis Function Classification Report\")\n",
        "best_rbf = classification_report(y_test, y_predict,output_dict=True)\n",
        "best_rbf_mse = mean_squared_error(y_test, y_predict)\n",
        "print(classification_report(y_test, y_predict))\n",
        "\n",
        "# learning curve data points\n",
        "train_size_abs, train_scores, test_scores = learning_curve(rbf, fold2_X, fold2_y,cv=3)\n",
        "\n",
        "# creating mean and varience for rbf test\n",
        "train_mu, train_var = np.mean(train_scores, axis=1), np.std(train_scores, axis=1)\n",
        "test_mu, test_var = np.mean(test_scores, axis=1), np.std(test_scores, axis=1)\n",
        "\n",
        "# creating plots\n",
        "plt.figure(figsize=(8, 6))\n",
        "plt.plot(train_size_abs, train_mu, 'o-', color='r', label='Training score')\n",
        "plt.plot(train_size_abs, test_mu, 'o-', color='g', label='Validation score')\n",
        "plt.xlabel('# of training examples')\n",
        "plt.ylabel('Score')\n",
        "plt.title(' Radio Basis Function Learning curve')\n",
        "plt.legend(loc='best')\n",
        "plt.show()"
      ],
      "metadata": {
        "id": "K5I5I-vFHBV6"
      },
      "execution_count": null,
      "outputs": []
    },
    {
      "cell_type": "markdown",
      "source": [
        "Textual answer to question 5 goes here."
      ],
      "metadata": {
        "id": "5AGzL3oNHBV7"
      }
    },
    {
      "cell_type": "markdown",
      "source": [
        "\n",
        "\n",
        "1. When looking at fold 2, it is obvious that the testing and training set are very similar to one another because the lines have less space in between them.\n",
        "2. Linear and Polynomial seem to evaluate the data better than RBF because the testing and validation scores are almost the same.\n",
        "3. For fold 2, the polynomial model starts off seemingly evaluating the model with new data but then tanks once more data comes in rather than the other models which start out pretty low since there has not been much data given in the first 5000 samples. \n",
        "\n"
      ],
      "metadata": {
        "id": "HI8V2SMUxACQ"
      }
    },
    {
      "cell_type": "markdown",
      "source": [
        "# Question 6 (70 points)\n",
        "\n",
        "FOLD 3 - run the first three models with first fold data you created. Output the classification report AND plot its learning curve.\n",
        "\n",
        "\n",
        "In the text cell, following the code block, descibe what findings can be infered from the classification report and learning curve. Mention at least 3 non-trivial observations between the different kernels. "
      ],
      "metadata": {
        "id": "bB9uezyvHFc8"
      }
    },
    {
      "cell_type": "code",
      "source": [
        "##### Code block for Question 6\n",
        "from sklearn.metrics import classification_report\n",
        "from sklearn.model_selection import learning_curve\n",
        "import matplotlib.pyplot as plt\n",
        "from sklearn.metrics import mean_squared_error\n",
        "\n",
        "#linear test\n",
        "linear = linear_svm(fold3_X,fold3_y)\n",
        "y_predict = linear.predict(X_test)\n",
        "\n",
        "#classification report\n",
        "print(\"Linear Classification Report\")\n",
        "best_linear = classification_report(y_test, y_predict,output_dict=True)\n",
        "best_lin_mse = mean_squared_error(y_test, y_predict)\n",
        "print(classification_report(y_test, y_predict))\n",
        "\n",
        "#learning curve data points\n",
        "train_size_abs, train_scores, test_scores = learning_curve(linear, fold3_X, fold3_y,cv=3)\n",
        "\n",
        "#creating mean and varience for linear test\n",
        "train_mu, train_var = np.mean(train_scores, axis=1), np.std(train_scores, axis=1)\n",
        "test_mu, test_var = np.mean(test_scores, axis=1), np.std(test_scores, axis=1)\n",
        "\n",
        "#plotting\n",
        "plt.figure(figsize=(8, 6))\n",
        "plt.plot(train_size_abs, train_mu, 'o-', color='r', label='Training score')\n",
        "plt.plot(train_size_abs, test_mu, 'o-', color='g', label='Validation score')\n",
        "plt.xlabel('# of training examples')\n",
        "plt.ylabel('Score')\n",
        "plt.title('Linear Learning curve')\n",
        "plt.legend(loc='best')\n",
        "plt.show()\n",
        "\n",
        "### end of linear\n",
        "\n",
        "# poly_svm\n",
        "poly = poly_svm(fold3_X,fold3_y)\n",
        "y_predict = poly.predict(X_test)\n",
        "\n",
        "# classification report\n",
        "print(\"Polynomial Classification Report\")\n",
        "print(classification_report(y_test, y_predict))\n",
        "\n",
        "# learning curve data points\n",
        "train_size_abs, train_scores, test_scores = learning_curve(poly, fold3_X, fold3_y,cv=3)\n",
        "\n",
        "# creating mean and varience for linear test\n",
        "train_mu, train_var = np.mean(train_scores, axis=1), np.std(train_scores, axis=1)\n",
        "test_mu, test_var = np.mean(test_scores, axis=1), np.std(test_scores, axis=1)\n",
        "\n",
        "# creating plots\n",
        "plt.figure(figsize=(8, 6))\n",
        "plt.plot(train_size_abs, train_mu, 'o-', color='r', label='Training score')\n",
        "plt.plot(train_size_abs, test_mu, 'o-', color='g', label='Validation score')\n",
        "plt.xlabel('# of training examples')\n",
        "plt.ylabel('Score')\n",
        "plt.title('Polynomial Learning curve')\n",
        "plt.legend(loc='best')\n",
        "plt.show()\n",
        "\n",
        "### end of poly\n",
        "\n",
        "# RBF\n",
        "rbf = rbf_svm(fold3_X, fold3_y)\n",
        "y_predict = rbf.predict(X_test)\n",
        "\n",
        "# classification report\n",
        "print(\"Radio Basis Function Classification Report\")\n",
        "print(classification_report(y_test, y_predict))\n",
        "\n",
        "# learning curve data points\n",
        "train_size_abs, train_scores, test_scores = learning_curve(rbf, fold3_X, fold3_y,cv=3)\n",
        "\n",
        "# creating mean and varience for rbf test\n",
        "train_mu, train_var = np.mean(train_scores, axis=1), np.std(train_scores, axis=1)\n",
        "test_mu, test_var = np.mean(test_scores, axis=1), np.std(test_scores, axis=1)\n",
        "\n",
        "# creating plots\n",
        "plt.figure(figsize=(8, 6))\n",
        "plt.plot(train_size_abs, train_mu, 'o-', color='r', label='Training score')\n",
        "plt.plot(train_size_abs, test_mu, 'o-', color='g', label='Validation score')\n",
        "plt.xlabel('# of training examples')\n",
        "plt.ylabel('Score')\n",
        "plt.title(' Radio Basis Function Learning curve')\n",
        "plt.legend(loc='best')\n",
        "plt.show()"
      ],
      "metadata": {
        "id": "952LKGJCHFc9"
      },
      "execution_count": null,
      "outputs": []
    },
    {
      "cell_type": "markdown",
      "source": [
        "Textual answer to question 6 goes here."
      ],
      "metadata": {
        "id": "4hIeICojHFc9"
      }
    },
    {
      "cell_type": "markdown",
      "source": [
        "# Question 7 (30 points)\n",
        "\n",
        "From the three folds pick the best model for each different type of kernel.\n",
        "\n",
        "Present a table with the following columns from their metrics and model. Remember to make classifications on the test set at this stage.\n",
        "\n",
        "1. Model Name (Kernel)\n",
        "2. Accuracy\n",
        "3. Precision\n",
        "4. Recall\n",
        "5. F1-score\n",
        "6. RMSE\n"
      ],
      "metadata": {
        "id": "D5FbmbFolUE-"
      }
    },
    {
      "cell_type": "code",
      "source": [
        "##### Code block for Question 7\\\n",
        "import numpy as np\n",
        "\n",
        "#linear metrics\n",
        "lin_acc = best_linear['accuracy']\n",
        "lin_pre = best_linear['macro avg']['precision']\n",
        "lin_rec = best_linear['macro avg']['recall']\n",
        "lin_f1 = best_linear['macro avg']['f1-score']\n",
        "lin_rmse = np.sqrt(best_lin_mse)\n",
        "\n",
        "#polynomial metrics\n",
        "poly_acc = best_polynomial['accuracy']\n",
        "poly_pre = best_polynomial['macro avg']['precision']\n",
        "poly_rec = best_polynomial['macro avg']['recall']\n",
        "poly_f1 = best_polynomial['macro avg']['f1-score']\n",
        "poly_rmse = np.sqrt(best_poly_mse)\n",
        "\n",
        "#rbf metrics\n",
        "rbf_acc = best_rbf['accuracy']\n",
        "rbf_pre = best_rbf['macro avg']['precision']\n",
        "rbf_rec = best_rbf['macro avg']['recall']\n",
        "rbf_f1 = best_rbf['macro avg']['f1-score']\n",
        "rbf_rmse = np.sqrt(best_rbf_mse)\n",
        "data = [[\"Model Name (Kernel)\",\"Accuracy\", \"Precision\", \"Recall\", \"F1-score\", \"RMSE\"],\n",
        "        [\"Linear\", lin_acc, lin_pre, lin_rec, lin_f1, lin_rmse],\n",
        "        [\"Polynomial\", poly_acc, poly_pre, poly_rec, poly_f1, poly_rmse],\n",
        "        [\"Radio Basis Function\", rbf_acc, rbf_pre, rbf_rec, rbf_f1, rbf_rmse]\n",
        "]\n",
        "\n",
        "# create the figure and axis objects\n",
        "fig, ax = plt.subplots()\n",
        "\n",
        "# create the table\n",
        "table = ax.table(cellText=data, colLabels=None, cellLoc='center', loc='center')\n",
        "\n",
        "# set the font size of the table cells\n",
        "table.auto_set_font_size(False)\n",
        "table.set_fontsize(14)\n",
        "\n",
        "# remove the borders from the table cells\n",
        "for key, cell in table.get_celld().items():\n",
        "    cell.set_linewidth(0)\n",
        "\n",
        "# set the title of the plot\n",
        "ax.set_title('Best Model Metric')\n",
        "\n",
        "# hide the axis ticks and labels\n",
        "ax.axis('off')\n",
        "\n",
        "# show the plot\n",
        "plt.show()"
      ],
      "metadata": {
        "id": "7-wRvWY7mvJ4"
      },
      "execution_count": null,
      "outputs": []
    },
    {
      "cell_type": "markdown",
      "source": [
        "# Question 8 (40 points) \n",
        "\n",
        "From question 7, which one is the best model in the following contexts:\n",
        "\n",
        "a) Metrics from table from question 7, and why?\n",
        "\n",
        "b) Based on the learning curves ploted in the previous questions, and why?"
      ],
      "metadata": {
        "id": "d0uKcXIWm2gZ"
      }
    },
    {
      "cell_type": "markdown",
      "source": [
        "Textual answer to question 8a goes here."
      ],
      "metadata": {
        "id": "fUv67lIDnQVt"
      }
    },
    {
      "cell_type": "markdown",
      "source": [
        "The best model is because the overall f1-scores is higher"
      ],
      "metadata": {
        "id": "0r0a1EIA8jDb"
      }
    },
    {
      "cell_type": "markdown",
      "source": [
        "Textual answer to question 8b goes here."
      ],
      "metadata": {
        "id": "vekeBSBBnS8d"
      }
    },
    {
      "cell_type": "markdown",
      "source": [
        "Based on the graphs I would say that the polynomial model does better because of how the two scores usually converge and increase in learning the model overall.  "
      ],
      "metadata": {
        "id": "1twNwzcX84LP"
      }
    },
    {
      "cell_type": "markdown",
      "source": [
        "# Question 9 (50 points)\n",
        "\n",
        "Wrie the simplest and most efficient Sklearn pipeline to do extactly what we did in questions 2 to 6. Make sure that you get all the same intermediate outputs and output the same table from quetsion 7 directly from this pipeline."
      ],
      "metadata": {
        "id": "5FAvUA_LptZA"
      }
    },
    {
      "cell_type": "code",
      "source": [
        "##### Code block for Question 9\n",
        "from sklearn import datasets\n",
        "from sklearn import svm\n",
        "from sklearn.model_selection import KFold\n",
        "from sklearn.metrics import classification_report\n",
        "import numpy as np\n",
        "\n",
        "# define k-fold cross-validation with 3 folds\n",
        "kf = KFold(n_splits=3, shuffle=True, random_state=1234)\n",
        "\n",
        "# initialize best models\n",
        "best_k_linear = 0\n",
        "best_k_poly = 0\n",
        "best_k_rbf = 0\n",
        "\n",
        "# loop over each fold in the cross-validation\n",
        "for train_idx, test_idx in kf.split(X):\n",
        "    # split the data into training and test sets for this fold\n",
        "    X_train, y_train = X[train_idx], y[train_idx]\n",
        "    X_test, y_test = X[test_idx], y[test_idx]\n",
        "    \n",
        "    # train and evaluate the linear SVM\n",
        "    lin_svm = svm.SVC(kernel='linear')\n",
        "    linear = lin_svm.fit(X_train, y_train)\n",
        "    y_pred_lin = linear.predict(X_test)\n",
        "    print(\"Linear SVM Classification Report:\\n\", classification_report(y_test, y_pred_lin))\n",
        "\n",
        "    #learning curve data points\n",
        "    train_size_abs, train_scores, test_scores = learning_curve(linear, X_train, y_train,cv=3)\n",
        "\n",
        "    #creating mean and varience for linear test\n",
        "    train_mu, train_var = np.mean(train_scores, axis=1), np.std(train_scores, axis=1)\n",
        "    test_mu, test_var = np.mean(test_scores, axis=1), np.std(test_scores, axis=1)\n",
        "\n",
        "    #plotting\n",
        "    plt.figure(figsize=(8, 6))\n",
        "    plt.plot(train_size_abs, train_mu, 'o-', color='r', label='Training score')\n",
        "    plt.plot(train_size_abs, test_mu, 'o-', color='g', label='Validation score')\n",
        "    plt.xlabel('# of training examples')\n",
        "    plt.ylabel('Score')\n",
        "    plt.title('Linear Learning curve')\n",
        "    plt.legend(loc='best')\n",
        "    plt.show()\n",
        "    if lin_svm.score(X_test, y_test) > lin_svm.score(X_train, y_train):\n",
        "        best_k_linear = classification_report(y_test, y_pred_lin)\n",
        "        best_xy_lin = [X_train, y_train]\n",
        "        best_lin_mse = mean_squared_error(y_test, y_pred_lin)\n",
        "    \n",
        "    # train and evaluate the polynomial SVM\n",
        "    poly_svm = svm.SVC(kernel='poly')\n",
        "    polynomial = poly_svm.fit(X_train, y_train)\n",
        "    y_pred_poly = polynomial.predict(X_test)\n",
        "    print(\"Polynomial SVM Classification Report:\\n\", classification_report(y_test, y_pred_poly))\n",
        "\n",
        "    #learning curve data points\n",
        "    train_size_abs, train_scores, test_scores = learning_curve(polynomial, X_train, y_train,cv=3)\n",
        "\n",
        "    #creating mean and varience for polynomial test\n",
        "    train_mu, train_var = np.mean(train_scores, axis=1), np.std(train_scores, axis=1)\n",
        "    test_mu, test_var = np.mean(test_scores, axis=1), np.std(test_scores, axis=1)\n",
        "\n",
        "    #plotting\n",
        "    plt.figure(figsize=(8, 6))\n",
        "    plt.plot(train_size_abs, train_mu, 'o-', color='r', label='Training score')\n",
        "    plt.plot(train_size_abs, test_mu, 'o-', color='g', label='Validation score')\n",
        "    plt.xlabel('# of training examples')\n",
        "    plt.ylabel('Score')\n",
        "    plt.title('Polynomial Learning curve')\n",
        "    plt.legend(loc='best')\n",
        "    plt.show()\n",
        "    \n",
        "    if poly_svm.score(X_test, y_test) > poly_svm.score(X_train, y_train):\n",
        "        best_k_poly = classification_report(y_test, y_pred_poly)\n",
        "        best_xy_poly = [X_train, y_train]\n",
        "        best_poly_mse = mean_squared_error(y_test, y_pred_poly)\n",
        "    \n",
        "    # train and evaluate the rbf SVM\n",
        "    rbf_svm = svm.SVC(kernel='rbf')\n",
        "    rbf = rbf_svm.fit(X_train, y_train)\n",
        "    y_pred_rbf = rbf.predict(X_test)\n",
        "    print(\"RBF SVM Classification Report:\\n\", classification_report(y_test, y_pred_rbf))\n",
        "\n",
        "    #learning curve data points\n",
        "    train_size_abs, train_scores, test_scores = learning_curve(rbf, X_train, y_train,cv=3)\n",
        "\n",
        "    #creating mean and varience for polynomial test\n",
        "    train_mu, train_var = np.mean(train_scores, axis=1), np.std(train_scores, axis=1)\n",
        "    test_mu, test_var = np.mean(test_scores, axis=1), np.std(test_scores, axis=1)\n",
        "\n",
        "    #plotting\n",
        "    plt.figure(figsize=(8, 6))\n",
        "    plt.plot(train_size_abs, train_mu, 'o-', color='r', label='Training score')\n",
        "    plt.plot(train_size_abs, test_mu, 'o-', color='g', label='Validation score')\n",
        "    plt.xlabel('# of training examples')\n",
        "    plt.ylabel('Score')\n",
        "    plt.title('RBF Learning curve')\n",
        "    plt.legend(loc='best')\n",
        "    plt.show()\n",
        "    \n",
        "    if rbf_svm.score(X_test, y_test) > rbf_svm.score(X_train, y_train):\n",
        "        best_k_rbf = classification_report(y_test, y_pred_rbf)\n",
        "        best_xy_rbf = [X_train, y_train]\n",
        "        best_rbf_mse = mean_squared_error(y_test, y_pred_rbf)\n",
        "\n",
        "\n",
        "#linear metrics\n",
        "lin_acc = best_k_linear['accuracy']\n",
        "lin_pre = best_k_linear['macro avg']['precision']\n",
        "lin_rec = best_k_linear['macro avg']['recall']\n",
        "lin_f1 = best_k_linear['macro avg']['f1-score']\n",
        "lin_rmse = np.sqrt(best_lin_mse)\n",
        "\n",
        "#polynomial metrics\n",
        "poly_acc = best_k_poly['accuracy']\n",
        "poly_pre = best_k_poly['macro avg']['precision']\n",
        "poly_rec = best_k_poly['macro avg']['recall']\n",
        "poly_f1 = best_k_poly['macro avg']['f1-score']\n",
        "poly_rmse = np.sqrt(best_poly_mse)\n",
        "\n",
        "#rbf metrics\n",
        "rbf_acc = best_k_rbf['accuracy']\n",
        "rbf_pre = best_k_rbf['macro avg']['precision']\n",
        "rbf_rec = best_k_rbf['macro avg']['recall']\n",
        "rbf_f1 = best_k_rbf['macro avg']['f1-score']\n",
        "rbf_rmse = np.sqrt(best_rbf_mse)\n",
        "data = [[\"Model Name (Kernel)\",\"Accuracy\", \"Precision\", \"Recall\", \"F1-score\", \"RMSE\"],\n",
        "        [\"Linear\", lin_acc, lin_pre, lin_rec, lin_f1, lin_rmse],\n",
        "        [\"Polynomial\", poly_acc, poly_pre, poly_rec, poly_f1, poly_rmse],\n",
        "        [\"Radio Basis Function\", rbf_acc, rbf_pre, rbf_rec, rbf_f1, rbf_rmse]\n",
        "]\n",
        "\n",
        "# create the figure and axis objects\n",
        "fig, ax = plt.subplots()\n",
        "\n",
        "# create the table\n",
        "table = ax.table(cellText=data, colLabels=None, cellLoc='center', loc='center')\n",
        "\n",
        "# set the font size of the table cells\n",
        "table.auto_set_font_size(False)\n",
        "table.set_fontsize(14)\n",
        "\n",
        "# remove the borders from the table cells\n",
        "for key, cell in table.get_celld().items():\n",
        "    cell.set_linewidth(0)\n",
        "\n",
        "# set the title of the plot\n",
        "ax.set_title('Best Model Metric')\n",
        "\n",
        "# hide the axis ticks and labels\n",
        "ax.axis('off')\n",
        "\n",
        "# show the plot\n",
        "plt.show()"
      ],
      "metadata": {
        "id": "OVEa6yRHpsVp"
      },
      "execution_count": null,
      "outputs": []
    },
    {
      "cell_type": "markdown",
      "source": [
        "# Graduate Student Question: (50 points)\n",
        "\n",
        "Use the following function and provide visualizations for the best models for each kernel type from above (looking for three plots to receive full credit). Note: The function might need some small adjustments :)\n"
      ],
      "metadata": {
        "id": "ziqaH6VEuBJK"
      }
    },
    {
      "cell_type": "code",
      "source": [
        "def Plot_3D(X, X_test, y_test, clf):\n",
        "            \n",
        "    # Specify a size of the mesh to be used\n",
        "    mesh_size = 5\n",
        "    margin = 1\n",
        "\n",
        "    # Create a mesh grid on which we will run our model\n",
        "    x_min, x_max = X.iloc[:, 0].fillna(X.mean()).min() - margin, X.iloc[:, 0].fillna(X.mean()).max() + margin\n",
        "    y_min, y_max = X.iloc[:, 1].fillna(X.mean()).min() - margin, X.iloc[:, 1].fillna(X.mean()).max() + margin\n",
        "    xrange = np.arange(x_min, x_max, mesh_size)\n",
        "    yrange = np.arange(y_min, y_max, mesh_size)\n",
        "    xx, yy = np.meshgrid(xrange, yrange)\n",
        "            \n",
        "    # Calculate predictions on grid\n",
        "    Z = clf.predict_proba(np.c_[xx.ravel(), yy.ravel()])[:, 1]\n",
        "    Z = Z.reshape(xx.shape)\n",
        "\n",
        "    # Create a 3D scatter plot with predictions\n",
        "    fig = px.scatter_3d(x=X_test['rating_difference'], y=X_test['turns'], z=y_test, \n",
        "                     opacity=0.8, color_discrete_sequence=['black'])\n",
        "\n",
        "    # Set figure title and colors\n",
        "    fig.update_layout(#title_text=\"Scatter 3D Plot with SVM Prediction Surface\",\n",
        "                      paper_bgcolor = 'white',\n",
        "                      scene = dict(xaxis=dict(backgroundcolor='white',\n",
        "                                              color='black',\n",
        "                                              gridcolor='#f0f0f0'),\n",
        "                                   yaxis=dict(backgroundcolor='white',\n",
        "                                              color='black',\n",
        "                                              gridcolor='#f0f0f0'\n",
        "                                              ),\n",
        "                                   zaxis=dict(backgroundcolor='lightgrey',\n",
        "                                              color='black', \n",
        "                                              gridcolor='#f0f0f0', \n",
        "                                              )))\n",
        "    # Update marker size\n",
        "    fig.update_traces(marker=dict(size=1))\n",
        "\n",
        "    # Add prediction plane\n",
        "    fig.add_traces(go.Surface(x=xrange, y=yrange, z=Z, name='SVM Prediction',\n",
        "                              colorscale='RdBu', showscale=False, \n",
        "                              contours = {\"z\": {\"show\": True, \"start\": 0.2, \"end\": 0.8, \"size\": 0.05}}))\n",
        "    fig.show()"
      ],
      "metadata": {
        "id": "iP7WWFw6Esqu"
      },
      "execution_count": null,
      "outputs": []
    },
    {
      "cell_type": "code",
      "source": [
        "##### Code block for Graduate Student Question - Figure 1"
      ],
      "metadata": {
        "id": "a17SE-ZcuALz"
      },
      "execution_count": null,
      "outputs": []
    },
    {
      "cell_type": "code",
      "source": [
        "##### Code block for Graduate Student Question - Figure 2"
      ],
      "metadata": {
        "id": "1qjVDoYuKLCc"
      },
      "execution_count": null,
      "outputs": []
    },
    {
      "cell_type": "code",
      "source": [
        "##### Code block for Graduate Student Question - Figure 3"
      ],
      "metadata": {
        "id": "iXfXoPIpKL_Q"
      },
      "execution_count": null,
      "outputs": []
    }
  ]
}